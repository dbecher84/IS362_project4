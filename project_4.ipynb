{
 "cells": [
  {
   "cell_type": "code",
   "execution_count": 1,
   "metadata": {},
   "outputs": [],
   "source": [
    "%matplotlib inline\n",
    "import matplotlib.pyplot as plt\n",
    "import numpy as np\n",
    "import pandas as pd\n",
    "import seaborn as sns\n",
    "sns.set()\n",
    "\n",
    "import sklearn.model_selection\n",
    "import sklearn.linear_model\n",
    "from sklearn import metrics"
   ]
  },
  {
   "cell_type": "markdown",
   "metadata": {},
   "source": [
    "url for the mush room data\n",
    "a list of columns to be imported into the dataframe\n",
    "a list of names for the imported columns\n",
    "code to read the data into a dataframe and label columns"
   ]
  },
  {
   "cell_type": "code",
   "execution_count": 6,
   "metadata": {},
   "outputs": [],
   "source": [
    "data_url = 'https://archive.ics.uci.edu/ml/machine-learning-databases/mushroom/agaricus-lepiota.data'\n",
    "\n",
    "data_col = [0,2,5,22]\n",
    "\n",
    "col_names = ['edible', 'cap surface', 'odor', 'habitat']\n",
    "\n",
    "mush_data = pd.read_csv(data_url, sep=',', usecols=data_col, header=None, names=col_names)"
   ]
  },
  {
   "cell_type": "code",
   "execution_count": 7,
   "metadata": {},
   "outputs": [
    {
     "data": {
      "text/html": [
       "<div>\n",
       "<style scoped>\n",
       "    .dataframe tbody tr th:only-of-type {\n",
       "        vertical-align: middle;\n",
       "    }\n",
       "\n",
       "    .dataframe tbody tr th {\n",
       "        vertical-align: top;\n",
       "    }\n",
       "\n",
       "    .dataframe thead th {\n",
       "        text-align: right;\n",
       "    }\n",
       "</style>\n",
       "<table border=\"1\" class=\"dataframe\">\n",
       "  <thead>\n",
       "    <tr style=\"text-align: right;\">\n",
       "      <th></th>\n",
       "      <th>edible</th>\n",
       "      <th>cap surface</th>\n",
       "      <th>odor</th>\n",
       "      <th>habitat</th>\n",
       "    </tr>\n",
       "  </thead>\n",
       "  <tbody>\n",
       "    <tr>\n",
       "      <th>0</th>\n",
       "      <td>p</td>\n",
       "      <td>s</td>\n",
       "      <td>p</td>\n",
       "      <td>u</td>\n",
       "    </tr>\n",
       "    <tr>\n",
       "      <th>1</th>\n",
       "      <td>e</td>\n",
       "      <td>s</td>\n",
       "      <td>a</td>\n",
       "      <td>g</td>\n",
       "    </tr>\n",
       "    <tr>\n",
       "      <th>2</th>\n",
       "      <td>e</td>\n",
       "      <td>s</td>\n",
       "      <td>l</td>\n",
       "      <td>m</td>\n",
       "    </tr>\n",
       "    <tr>\n",
       "      <th>3</th>\n",
       "      <td>p</td>\n",
       "      <td>y</td>\n",
       "      <td>p</td>\n",
       "      <td>u</td>\n",
       "    </tr>\n",
       "    <tr>\n",
       "      <th>4</th>\n",
       "      <td>e</td>\n",
       "      <td>s</td>\n",
       "      <td>n</td>\n",
       "      <td>g</td>\n",
       "    </tr>\n",
       "  </tbody>\n",
       "</table>\n",
       "</div>"
      ],
      "text/plain": [
       "  edible cap surface odor habitat\n",
       "0      p           s    p       u\n",
       "1      e           s    a       g\n",
       "2      e           s    l       m\n",
       "3      p           y    p       u\n",
       "4      e           s    n       g"
      ]
     },
     "execution_count": 7,
     "metadata": {},
     "output_type": "execute_result"
    }
   ],
   "source": [
    "mush_data.head()"
   ]
  },
  {
   "cell_type": "markdown",
   "metadata": {},
   "source": [
    "key for changing the letters to numbers\n",
    "\n",
    "deadly -> edible(e) = 0, posionous(p) = 1\n",
    "\n",
    "cap surface -> fibrous(f) = 10, grooves(g)=11, scaly(y)=12, smooth(s)=13\n",
    "\n",
    "odor -> almond(a)=20, anise(l)=21, creosote(c)=22, fishy(y)=23, foul(f)=24, musty(m)=25, none(n)=26, pungent(p)=27, spicy(s)=28\n",
    "\n",
    "habitat -> grasses(g)=30, leaves(l)=31, meadows(m)=32, paths(p)=33, urban(u)=34, waste(w)=35, woods(d)=36\n"
   ]
  },
  {
   "cell_type": "code",
   "execution_count": 8,
   "metadata": {},
   "outputs": [],
   "source": [
    "mush_data['edible'] = mush_data['edible'].map({'e':0, 'p':1})\n",
    "mush_data['cap surface'] = mush_data['cap surface'].map({'f':10, 'g':11, 'y':12, 's':13})\n",
    "mush_data['odor'] = mush_data['odor'].map({'a':20, 'l':21, 'c':22, 'y':23, 'f':24, 'm':25, 'n':26, 'p':27, 's':28})\n",
    "mush_data['habitat'] = mush_data['habitat'].map({'g':30, 'l':31, 'm':32, 'p':33, 'u':34, 'w':35, 'd':36})"
   ]
  },
  {
   "cell_type": "code",
   "execution_count": 9,
   "metadata": {},
   "outputs": [],
   "source": [
    "cap_sur = pd.Series(mush_data['cap surface'])\n",
    "cap = pd.get_dummies(cap_sur)\n",
    "\n",
    "habitat = pd.Series(mush_data['habitat'])\n",
    "hab = pd.get_dummies(habitat)\n",
    "\n",
    "odor = pd.Series(mush_data['odor'])\n",
    "od = pd.get_dummies(odor)"
   ]
  },
  {
   "cell_type": "markdown",
   "metadata": {},
   "source": [
    "new dataframe with the value readed for scikit learn"
   ]
  },
  {
   "cell_type": "code",
   "execution_count": 10,
   "metadata": {},
   "outputs": [],
   "source": [
    "new_mush = pd.concat([mush_data['edible'], cap, od, hab], axis=1)\n",
    "feat_cols = list(new_mush.iloc[:, 1:])"
   ]
  },
  {
   "cell_type": "code",
   "execution_count": 25,
   "metadata": {},
   "outputs": [],
   "source": [
    "X = new_mush.loc[:, feat_cols]\n",
    "Y = new_mush['edible']\n",
    "#print (feat_cols)"
   ]
  },
  {
   "cell_type": "code",
   "execution_count": 12,
   "metadata": {},
   "outputs": [],
   "source": [
    "X_train, X_test, Y_train, Y_test = sklearn.model_selection.train_test_split(X, Y, random_state=1)"
   ]
  },
  {
   "cell_type": "code",
   "execution_count": 14,
   "metadata": {},
   "outputs": [
    {
     "name": "stdout",
     "output_type": "stream",
     "text": [
      "0.0\n",
      "0.0\n",
      "0.0\n"
     ]
    }
   ],
   "source": [
    "linreg = sklearn.linear_model.LinearRegression()\n",
    "linreg.fit(X_train, Y_train)\n",
    "Y_pred = linreg.predict(X_test)\n",
    "t = [100, 50]\n",
    "p = [100, 50]\n",
    "\n",
    "print(sklearn.metrics.mean_absolute_error(t, p))\n",
    "print(sklearn.metrics.mean_squared_error(t, p))\n",
    "print(np.sqrt(sklearn.metrics.mean_squared_error(t, p)))"
   ]
  },
  {
   "cell_type": "markdown",
   "metadata": {},
   "source": [
    "This combined set of data does not seem to be very good at prediciting edibility. "
   ]
  },
  {
   "cell_type": "code",
   "execution_count": 15,
   "metadata": {},
   "outputs": [
    {
     "name": "stdout",
     "output_type": "stream",
     "text": [
      "0.12041757196065468\n"
     ]
    }
   ],
   "source": [
    "print (np.sqrt(metrics.mean_squared_error(Y_test, Y_pred)))"
   ]
  },
  {
   "cell_type": "code",
   "execution_count": 26,
   "metadata": {},
   "outputs": [],
   "source": [
    "feat_cols2 = list(new_mush.iloc[:, 5:])\n",
    "X2 = new_mush.loc[:, feat_cols2]\n",
    "Y2 = new_mush['edible']\n",
    "#print (feat_cols2)"
   ]
  },
  {
   "cell_type": "code",
   "execution_count": 28,
   "metadata": {},
   "outputs": [],
   "source": [
    "X2_train, X2_test, Y2_train, Y2_test = sklearn.model_selection.train_test_split(X2, Y2, random_state=1)"
   ]
  },
  {
   "cell_type": "code",
   "execution_count": 29,
   "metadata": {},
   "outputs": [],
   "source": [
    "linreg = sklearn.linear_model.LinearRegression()\n",
    "linreg.fit(X2_train, Y2_train)\n",
    "Y2_pred = linreg.predict(X2_test)"
   ]
  },
  {
   "cell_type": "markdown",
   "metadata": {},
   "source": [
    "odor and habitat with cap surface were no better or worse at predicting the edibility than all three combined."
   ]
  },
  {
   "cell_type": "code",
   "execution_count": 30,
   "metadata": {},
   "outputs": [
    {
     "name": "stdout",
     "output_type": "stream",
     "text": [
      "0.12672403334107077\n"
     ]
    }
   ],
   "source": [
    "print (np.sqrt(metrics.mean_squared_error(Y2_test, Y2_pred)))"
   ]
  },
  {
   "cell_type": "code",
   "execution_count": 32,
   "metadata": {},
   "outputs": [],
   "source": [
    "feat_cols3 = list(new_mush.iloc[:, 14:])\n",
    "X3 = new_mush.loc[:, feat_cols3]\n",
    "Y3 = new_mush['edible']\n",
    "#print (feat_cols3)"
   ]
  },
  {
   "cell_type": "code",
   "execution_count": 33,
   "metadata": {},
   "outputs": [],
   "source": [
    "X3_train, X3_test, Y3_train, Y3_test = sklearn.model_selection.train_test_split(X3, Y3, random_state=1)"
   ]
  },
  {
   "cell_type": "code",
   "execution_count": 34,
   "metadata": {},
   "outputs": [],
   "source": [
    "linreg = sklearn.linear_model.LinearRegression()\n",
    "linreg.fit(X3_train, Y3_train)\n",
    "Y3_pred = linreg.predict(X3_test)"
   ]
  },
  {
   "cell_type": "markdown",
   "metadata": {},
   "source": [
    "habitat alone is not good a detecting edibility "
   ]
  },
  {
   "cell_type": "code",
   "execution_count": 35,
   "metadata": {},
   "outputs": [
    {
     "name": "stdout",
     "output_type": "stream",
     "text": [
      "0.44967565845126845\n"
     ]
    }
   ],
   "source": [
    "print (np.sqrt(metrics.mean_squared_error(Y3_test, Y3_pred)))"
   ]
  },
  {
   "cell_type": "code",
   "execution_count": 49,
   "metadata": {},
   "outputs": [],
   "source": [
    "feat_cols4 = list(new_mush.iloc[:, 5:14])\n",
    "X4 = new_mush.loc[:, feat_cols4]\n",
    "Y4 = new_mush['edible']\n",
    "#print (feat_cols4)\n",
    "#print (X4)"
   ]
  },
  {
   "cell_type": "code",
   "execution_count": 38,
   "metadata": {},
   "outputs": [],
   "source": [
    "X4_train, X4_test, Y4_train, Y4_test = sklearn.model_selection.train_test_split(X4, Y4, random_state=1)"
   ]
  },
  {
   "cell_type": "code",
   "execution_count": 39,
   "metadata": {},
   "outputs": [],
   "source": [
    "linreg = sklearn.linear_model.LinearRegression()\n",
    "linreg.fit(X4_train, Y4_train)\n",
    "Y4_pred = linreg.predict(X4_test)"
   ]
  },
  {
   "cell_type": "markdown",
   "metadata": {},
   "source": [
    "ordor alone is just as good at detecting edibility as all three feature together"
   ]
  },
  {
   "cell_type": "code",
   "execution_count": 46,
   "metadata": {},
   "outputs": [
    {
     "name": "stdout",
     "output_type": "stream",
     "text": [
      "0.13048977310508625\n"
     ]
    }
   ],
   "source": [
    "print (np.sqrt(metrics.mean_squared_error(Y4_test, Y4_pred)))"
   ]
  },
  {
   "cell_type": "code",
   "execution_count": 43,
   "metadata": {},
   "outputs": [],
   "source": [
    "feat_cols5 = list(new_mush.iloc[:, 1:14])\n",
    "X5 = new_mush.loc[:, feat_cols5]\n",
    "Y5 = new_mush['edible']\n",
    "#print (feat_cols5)"
   ]
  },
  {
   "cell_type": "code",
   "execution_count": 44,
   "metadata": {},
   "outputs": [],
   "source": [
    "X5_train, X5_test, Y5_train, Y5_test = sklearn.model_selection.train_test_split(X5, Y5, random_state=1)"
   ]
  },
  {
   "cell_type": "code",
   "execution_count": 45,
   "metadata": {},
   "outputs": [],
   "source": [
    "linreg = sklearn.linear_model.LinearRegression()\n",
    "linreg.fit(X5_train, Y5_train)\n",
    "Y5_pred = linreg.predict(X5_test)"
   ]
  },
  {
   "cell_type": "markdown",
   "metadata": {},
   "source": [
    "Cap surface and odor are just as good a detecting edibility as all three features"
   ]
  },
  {
   "cell_type": "code",
   "execution_count": 47,
   "metadata": {},
   "outputs": [
    {
     "name": "stdout",
     "output_type": "stream",
     "text": [
      "0.12446234481164103\n"
     ]
    }
   ],
   "source": [
    "print (np.sqrt(metrics.mean_squared_error(Y5_test, Y5_pred)))"
   ]
  },
  {
   "cell_type": "markdown",
   "metadata": {},
   "source": [
    "Summary:\n",
    "All three features cap surface, odor, and habitat are the best best combination of these three feature for determining edibility. Having just cap surface and odor is the second best combination, while odor alone can determine edibilty also as well as any combination of these three features. Given the risk of eating the wrong mushroom I do not think there feature are accurate enough to determine edibility. More features would need to be added or a different combination of features. "
   ]
  }
 ],
 "metadata": {
  "kernelspec": {
   "display_name": "Python 3",
   "language": "python",
   "name": "python3"
  },
  "language_info": {
   "codemirror_mode": {
    "name": "ipython",
    "version": 3
   },
   "file_extension": ".py",
   "mimetype": "text/x-python",
   "name": "python",
   "nbconvert_exporter": "python",
   "pygments_lexer": "ipython3",
   "version": "3.6.5"
  }
 },
 "nbformat": 4,
 "nbformat_minor": 2
}
